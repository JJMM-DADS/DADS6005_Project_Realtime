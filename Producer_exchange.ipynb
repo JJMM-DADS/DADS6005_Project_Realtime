{
 "cells": [
  {
   "cell_type": "code",
   "execution_count": 1,
   "id": "d66fb82f",
   "metadata": {},
   "outputs": [
    {
     "ename": "KeyError",
     "evalue": "'timestamp'",
     "output_type": "error",
     "traceback": [
      "\u001b[1;31m---------------------------------------------------------------------------\u001b[0m",
      "\u001b[1;31mKeyError\u001b[0m                                  Traceback (most recent call last)",
      "Cell \u001b[1;32mIn [1], line 22\u001b[0m\n\u001b[0;32m     20\u001b[0m page \u001b[39m=\u001b[39m requests\u001b[39m.\u001b[39mget(url)\n\u001b[0;32m     21\u001b[0m line\u001b[39m=\u001b[39mpage\u001b[39m.\u001b[39mjson()\n\u001b[1;32m---> 22\u001b[0m dt_obj \u001b[39m=\u001b[39m datetime\u001b[39m.\u001b[39mfromtimestamp(line[\u001b[39m\"\u001b[39;49m\u001b[39mtimestamp\u001b[39;49m\u001b[39m\"\u001b[39;49m])\n\u001b[0;32m     23\u001b[0m date_stm\u001b[39m=\u001b[39mdt_obj\u001b[39m.\u001b[39mstrftime(\u001b[39m\"\u001b[39m\u001b[39m%\u001b[39m\u001b[39mY/\u001b[39m\u001b[39m%\u001b[39m\u001b[39mm/\u001b[39m\u001b[39m%d\u001b[39;00m\u001b[39m \u001b[39m\u001b[39m%\u001b[39m\u001b[39mH:\u001b[39m\u001b[39m%\u001b[39m\u001b[39mM:\u001b[39m\u001b[39m%\u001b[39m\u001b[39mS\u001b[39m\u001b[39m\"\u001b[39m)\n\u001b[0;32m     24\u001b[0m line[\u001b[39m\"\u001b[39m\u001b[39mtimestamp\u001b[39m\u001b[39m\"\u001b[39m]\u001b[39m=\u001b[39mdate_stm\n",
      "\u001b[1;31mKeyError\u001b[0m: 'timestamp'"
     ]
    }
   ],
   "source": [
    "from confluent_kafka import Producer\n",
    "import requests\n",
    "import time\n",
    "import uuid\n",
    "from datetime import datetime\n",
    "\n",
    "p = Producer({'bootstrap.servers': '\"xxxx\":9092'}) #replace \"xxxx\" with kafka sever\n",
    "ID=uuid.uuid1()\n",
    "def delivery_report(err, msg):\n",
    "    \"\"\" Called once for each message produced to indicate delivery result.\n",
    "        Triggered by poll() or flush(). \"\"\"\n",
    "    if err is not None:\n",
    "        print('Message delivery failed: {}'.format(err))\n",
    "    else:\n",
    "        print('Message delivered to {}'.format(msg.value().decode('utf-8')))\n",
    "\n",
    " #file1.readlines()\n",
    "while True:\n",
    "    url = 'https://api.twelvedata.com/currency_conversion?symbol=USD/THB&amount=122&apikey=\"xxxx\"'#replace \"xxxx\" with api token\n",
    "    page = requests.get(url)\n",
    "    line=page.json()\n",
    "    dt_obj = datetime.fromtimestamp(line[\"timestamp\"])\n",
    "    date_stm=dt_obj.strftime(\"%Y/%m/%d %H:%M:%S\")\n",
    "    line[\"timestamp\"]=date_stm\n",
    "    line=str(line)\n",
    "    p.poll(0)\n",
    "    sendMsg = line.encode().decode('utf-8').strip('\\n')\n",
    "    print(sendMsg)\n",
    "    p.produce('jjmm_exchange', key=\"id{}\".format(ID.hex), value=sendMsg , callback=delivery_report)\n",
    "    p.flush()\n",
    "    time.sleep(10)"
   ]
  },
  {
   "cell_type": "code",
   "execution_count": null,
   "id": "c198a8b5",
   "metadata": {},
   "outputs": [],
   "source": [
    "#https://github.com/twelvedata/twelvedata-python#Fundamentals\n",
    "#https://twelvedata.com/account/statistic"
   ]
  }
 ],
 "metadata": {
  "kernelspec": {
   "display_name": "Python 3",
   "language": "python",
   "name": "python3"
  },
  "language_info": {
   "codemirror_mode": {
    "name": "ipython",
    "version": 3
   },
   "file_extension": ".py",
   "mimetype": "text/x-python",
   "name": "python",
   "nbconvert_exporter": "python",
   "pygments_lexer": "ipython3",
   "version": "3.10.9"
  },
  "vscode": {
   "interpreter": {
    "hash": "c4232d6060a471f8f9b7067fffb510ceeb212d2da825f1912188765e1e98e69a"
   }
  }
 },
 "nbformat": 4,
 "nbformat_minor": 5
}
