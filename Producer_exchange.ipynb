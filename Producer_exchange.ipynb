{
 "cells": [
  {
   "cell_type": "code",
   "execution_count": 1,
   "id": "d66fb82f",
   "metadata": {},
   "outputs": [
    {
     "name": "stdout",
     "output_type": "stream",
     "text": [
      "{'symbol': 'USD/THB', 'rate': 33.46, 'amount': 4082.11989, 'timestamp': '2023/01/10 23:13:00'}\n",
      "Message delivered to {'symbol': 'USD/THB', 'rate': 33.46, 'amount': 4082.11989, 'timestamp': '2023/01/10 23:13:00'}\n",
      "{'symbol': 'USD/THB', 'rate': 33.46, 'amount': 4082.11989, 'timestamp': '2023/01/10 23:13:00'}\n",
      "Message delivered to {'symbol': 'USD/THB', 'rate': 33.46, 'amount': 4082.11989, 'timestamp': '2023/01/10 23:13:00'}\n",
      "{'symbol': 'USD/THB', 'rate': 33.46, 'amount': 4082.11989, 'timestamp': '2023/01/10 23:13:00'}\n",
      "Message delivered to {'symbol': 'USD/THB', 'rate': 33.46, 'amount': 4082.11989, 'timestamp': '2023/01/10 23:13:00'}\n",
      "{'symbol': 'USD/THB', 'rate': 33.46, 'amount': 4082.11989, 'timestamp': '2023/01/10 23:13:00'}\n",
      "Message delivered to {'symbol': 'USD/THB', 'rate': 33.46, 'amount': 4082.11989, 'timestamp': '2023/01/10 23:13:00'}\n",
      "{'symbol': 'USD/THB', 'rate': 33.46, 'amount': 4082.11989, 'timestamp': '2023/01/10 23:13:00'}\n",
      "Message delivered to {'symbol': 'USD/THB', 'rate': 33.46, 'amount': 4082.11989, 'timestamp': '2023/01/10 23:13:00'}\n",
      "{'symbol': 'USD/THB', 'rate': 33.46, 'amount': 4082.11989, 'timestamp': '2023/01/10 23:13:00'}\n",
      "Message delivered to {'symbol': 'USD/THB', 'rate': 33.46, 'amount': 4082.11989, 'timestamp': '2023/01/10 23:13:00'}\n",
      "{'symbol': 'USD/THB', 'rate': 33.46, 'amount': 4082.11989, 'timestamp': '2023/01/10 23:13:00'}\n",
      "Message delivered to {'symbol': 'USD/THB', 'rate': 33.46, 'amount': 4082.11989, 'timestamp': '2023/01/10 23:13:00'}\n",
      "{'symbol': 'USD/THB', 'rate': 33.46, 'amount': 4082.11989, 'timestamp': '2023/01/10 23:13:00'}\n",
      "Message delivered to {'symbol': 'USD/THB', 'rate': 33.46, 'amount': 4082.11989, 'timestamp': '2023/01/10 23:13:00'}\n",
      "{'symbol': 'USD/THB', 'rate': 33.46, 'amount': 4082.11989, 'timestamp': '2023/01/10 23:13:00'}\n",
      "Message delivered to {'symbol': 'USD/THB', 'rate': 33.46, 'amount': 4082.11989, 'timestamp': '2023/01/10 23:13:00'}\n",
      "{'symbol': 'USD/THB', 'rate': 33.455, 'amount': 4081.51022, 'timestamp': '2023/01/10 23:15:00'}\n",
      "Message delivered to {'symbol': 'USD/THB', 'rate': 33.455, 'amount': 4081.51022, 'timestamp': '2023/01/10 23:15:00'}\n",
      "{'symbol': 'USD/THB', 'rate': 33.455, 'amount': 4081.51022, 'timestamp': '2023/01/10 23:15:00'}\n",
      "Message delivered to {'symbol': 'USD/THB', 'rate': 33.455, 'amount': 4081.51022, 'timestamp': '2023/01/10 23:15:00'}\n",
      "{'symbol': 'USD/THB', 'rate': 33.455, 'amount': 4081.51022, 'timestamp': '2023/01/10 23:15:00'}\n",
      "Message delivered to {'symbol': 'USD/THB', 'rate': 33.455, 'amount': 4081.51022, 'timestamp': '2023/01/10 23:15:00'}\n",
      "{'symbol': 'USD/THB', 'rate': 33.455, 'amount': 4081.51022, 'timestamp': '2023/01/10 23:15:00'}\n",
      "Message delivered to {'symbol': 'USD/THB', 'rate': 33.455, 'amount': 4081.51022, 'timestamp': '2023/01/10 23:15:00'}\n",
      "{'symbol': 'USD/THB', 'rate': 33.455, 'amount': 4081.51022, 'timestamp': '2023/01/10 23:15:00'}\n",
      "Message delivered to {'symbol': 'USD/THB', 'rate': 33.455, 'amount': 4081.51022, 'timestamp': '2023/01/10 23:15:00'}\n",
      "{'symbol': 'USD/THB', 'rate': 33.455, 'amount': 4081.51022, 'timestamp': '2023/01/10 23:15:00'}\n",
      "Message delivered to {'symbol': 'USD/THB', 'rate': 33.455, 'amount': 4081.51022, 'timestamp': '2023/01/10 23:15:00'}\n",
      "{'symbol': 'USD/THB', 'rate': 33.455, 'amount': 4081.51022, 'timestamp': '2023/01/10 23:15:00'}\n",
      "Message delivered to {'symbol': 'USD/THB', 'rate': 33.455, 'amount': 4081.51022, 'timestamp': '2023/01/10 23:15:00'}\n",
      "{'symbol': 'USD/THB', 'rate': 33.455, 'amount': 4081.51022, 'timestamp': '2023/01/10 23:15:00'}\n",
      "Message delivered to {'symbol': 'USD/THB', 'rate': 33.455, 'amount': 4081.51022, 'timestamp': '2023/01/10 23:15:00'}\n",
      "{'symbol': 'USD/THB', 'rate': 33.455, 'amount': 4081.51022, 'timestamp': '2023/01/10 23:15:00'}\n",
      "Message delivered to {'symbol': 'USD/THB', 'rate': 33.455, 'amount': 4081.51022, 'timestamp': '2023/01/10 23:15:00'}\n",
      "{'symbol': 'USD/THB', 'rate': 33.455, 'amount': 4081.51022, 'timestamp': '2023/01/10 23:15:00'}\n",
      "Message delivered to {'symbol': 'USD/THB', 'rate': 33.455, 'amount': 4081.51022, 'timestamp': '2023/01/10 23:15:00'}\n",
      "{'symbol': 'USD/THB', 'rate': 33.455, 'amount': 4081.51022, 'timestamp': '2023/01/10 23:15:00'}\n",
      "Message delivered to {'symbol': 'USD/THB', 'rate': 33.455, 'amount': 4081.51022, 'timestamp': '2023/01/10 23:15:00'}\n",
      "{'symbol': 'USD/THB', 'rate': 33.46, 'amount': 4082.11989, 'timestamp': '2023/01/10 23:17:00'}\n",
      "Message delivered to {'symbol': 'USD/THB', 'rate': 33.46, 'amount': 4082.11989, 'timestamp': '2023/01/10 23:17:00'}\n",
      "{'symbol': 'USD/THB', 'rate': 33.46, 'amount': 4082.11989, 'timestamp': '2023/01/10 23:17:00'}\n",
      "Message delivered to {'symbol': 'USD/THB', 'rate': 33.46, 'amount': 4082.11989, 'timestamp': '2023/01/10 23:17:00'}\n",
      "{'symbol': 'USD/THB', 'rate': 33.46, 'amount': 4082.11989, 'timestamp': '2023/01/10 23:17:00'}\n",
      "Message delivered to {'symbol': 'USD/THB', 'rate': 33.46, 'amount': 4082.11989, 'timestamp': '2023/01/10 23:17:00'}\n",
      "{'symbol': 'USD/THB', 'rate': 33.46, 'amount': 4082.11989, 'timestamp': '2023/01/10 23:17:00'}\n",
      "Message delivered to {'symbol': 'USD/THB', 'rate': 33.46, 'amount': 4082.11989, 'timestamp': '2023/01/10 23:17:00'}\n",
      "{'symbol': 'USD/THB', 'rate': 33.46, 'amount': 4082.11989, 'timestamp': '2023/01/10 23:17:00'}\n",
      "Message delivered to {'symbol': 'USD/THB', 'rate': 33.46, 'amount': 4082.11989, 'timestamp': '2023/01/10 23:17:00'}\n",
      "{'symbol': 'USD/THB', 'rate': 33.46, 'amount': 4082.11989, 'timestamp': '2023/01/10 23:17:00'}\n",
      "Message delivered to {'symbol': 'USD/THB', 'rate': 33.46, 'amount': 4082.11989, 'timestamp': '2023/01/10 23:17:00'}\n",
      "{'symbol': 'USD/THB', 'rate': 33.46, 'amount': 4082.11989, 'timestamp': '2023/01/10 23:17:00'}\n",
      "Message delivered to {'symbol': 'USD/THB', 'rate': 33.46, 'amount': 4082.11989, 'timestamp': '2023/01/10 23:17:00'}\n",
      "{'symbol': 'USD/THB', 'rate': 33.46, 'amount': 4082.11989, 'timestamp': '2023/01/10 23:17:00'}\n",
      "Message delivered to {'symbol': 'USD/THB', 'rate': 33.46, 'amount': 4082.11989, 'timestamp': '2023/01/10 23:17:00'}\n",
      "{'symbol': 'USD/THB', 'rate': 33.46, 'amount': 4082.11989, 'timestamp': '2023/01/10 23:17:00'}\n",
      "Message delivered to {'symbol': 'USD/THB', 'rate': 33.46, 'amount': 4082.11989, 'timestamp': '2023/01/10 23:17:00'}\n",
      "{'symbol': 'USD/THB', 'rate': 33.46, 'amount': 4082.11989, 'timestamp': '2023/01/10 23:17:00'}\n",
      "Message delivered to {'symbol': 'USD/THB', 'rate': 33.46, 'amount': 4082.11989, 'timestamp': '2023/01/10 23:17:00'}\n",
      "{'symbol': 'USD/THB', 'rate': 33.46, 'amount': 4082.11989, 'timestamp': '2023/01/10 23:17:00'}\n",
      "Message delivered to {'symbol': 'USD/THB', 'rate': 33.46, 'amount': 4082.11989, 'timestamp': '2023/01/10 23:17:00'}\n",
      "{'symbol': 'USD/THB', 'rate': 33.455, 'amount': 4081.51022, 'timestamp': '2023/01/10 23:19:00'}\n",
      "Message delivered to {'symbol': 'USD/THB', 'rate': 33.455, 'amount': 4081.51022, 'timestamp': '2023/01/10 23:19:00'}\n"
     ]
    },
    {
     "ename": "KeyboardInterrupt",
     "evalue": "",
     "output_type": "error",
     "traceback": [
      "\u001b[1;31m---------------------------------------------------------------------------\u001b[0m",
      "\u001b[1;31mKeyboardInterrupt\u001b[0m                         Traceback (most recent call last)",
      "Input \u001b[1;32mIn [1]\u001b[0m, in \u001b[0;36m<cell line: 19>\u001b[1;34m()\u001b[0m\n\u001b[0;32m     29\u001b[0m p\u001b[38;5;241m.\u001b[39mproduce(\u001b[38;5;124m'\u001b[39m\u001b[38;5;124mjjmm_exchange\u001b[39m\u001b[38;5;124m'\u001b[39m, key\u001b[38;5;241m=\u001b[39m\u001b[38;5;124m\"\u001b[39m\u001b[38;5;124mid\u001b[39m\u001b[38;5;132;01m{}\u001b[39;00m\u001b[38;5;124m\"\u001b[39m\u001b[38;5;241m.\u001b[39mformat(ID\u001b[38;5;241m.\u001b[39mhex), value\u001b[38;5;241m=\u001b[39msendMsg , callback\u001b[38;5;241m=\u001b[39mdelivery_report)\n\u001b[0;32m     30\u001b[0m p\u001b[38;5;241m.\u001b[39mflush()\n\u001b[1;32m---> 31\u001b[0m \u001b[43mtime\u001b[49m\u001b[38;5;241;43m.\u001b[39;49m\u001b[43msleep\u001b[49m\u001b[43m(\u001b[49m\u001b[38;5;241;43m10\u001b[39;49m\u001b[43m)\u001b[49m\n",
      "\u001b[1;31mKeyboardInterrupt\u001b[0m: "
     ]
    }
   ],
   "source": [
    "from confluent_kafka import Producer\n",
    "import requests\n",
    "import time\n",
    "import uuid\n",
    "from datetime import datetime\n",
    "\n",
    "p = Producer({'bootstrap.servers': 'ec2-13-229-46-113.ap-southeast-1.compute.amazonaws.com:9092'})\n",
    "ID=uuid.uuid1()\n",
    "def delivery_report(err, msg):\n",
    "    \"\"\" Called once for each message produced to indicate delivery result.\n",
    "        Triggered by poll() or flush(). \"\"\"\n",
    "    if err is not None:\n",
    "        print('Message delivery failed: {}'.format(err))\n",
    "    else:\n",
    "        print('Message delivered to {}'.format(msg.value().decode('utf-8')))\n",
    "\n",
    " #file1.readlines()\n",
    "while True:\n",
    "    url = 'https://api.twelvedata.com/currency_conversion?symbol=USD/THB&amount=122&apikey=8792fea3fa1e4322b85afccc9e07c0bc'\n",
    "    page = requests.get(url)\n",
    "    line=page.json()\n",
    "    dt_obj = datetime.fromtimestamp(line[\"timestamp\"])\n",
    "    date_stm=dt_obj.strftime(\"%Y/%m/%d %H:%M:%S\")\n",
    "    line[\"timestamp\"]=date_stm\n",
    "    line=str(line)\n",
    "    p.poll(0)\n",
    "    sendMsg = line.encode().decode('utf-8').strip('\\n')\n",
    "    print(sendMsg)\n",
    "    p.produce('jjmm_exchange', key=\"id{}\".format(ID.hex), value=sendMsg , callback=delivery_report)\n",
    "    p.flush()\n",
    "    time.sleep(10)"
   ]
  },
  {
   "cell_type": "code",
   "execution_count": null,
   "id": "c198a8b5",
   "metadata": {},
   "outputs": [],
   "source": [
    "#https://github.com/twelvedata/twelvedata-python#Fundamentals\n",
    "#https://twelvedata.com/account/statistic"
   ]
  }
 ],
 "metadata": {
  "kernelspec": {
   "display_name": "Python 3 (ipykernel)",
   "language": "python",
   "name": "python3"
  },
  "language_info": {
   "codemirror_mode": {
    "name": "ipython",
    "version": 3
   },
   "file_extension": ".py",
   "mimetype": "text/x-python",
   "name": "python",
   "nbconvert_exporter": "python",
   "pygments_lexer": "ipython3",
   "version": "3.9.7"
  }
 },
 "nbformat": 4,
 "nbformat_minor": 5
}
