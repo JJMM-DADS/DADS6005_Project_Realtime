{
 "cells": [
  {
   "cell_type": "code",
   "execution_count": 2,
   "id": "88128b4a",
   "metadata": {},
   "outputs": [
    {
     "name": "stdout",
     "output_type": "stream",
     "text": [
      "Message delivered to {'last': 579299.96, 'lowestAsk': 579300.01, 'highestBid': 578891.37, 'percentChange': 0.57, 'baseVolume': 116.29621428, 'quoteVolume': 67016590.52, 'isFrozen': 0, 'high24hr': 579500, 'low24hr': 572510, 'change': 3300.08, 'prevClose': 579299.96, 'prevOpen': 575999.88, 'pairing': 'THB_BTC', 'timestamp': '2023/01/10 23:15:43'}\n",
      "Message delivered to {'last': 579300.01, 'lowestAsk': 579300.01, 'highestBid': 578891.51, 'percentChange': 0.57, 'baseVolume': 116.34621429, 'quoteVolume': 67045555.52, 'isFrozen': 0, 'high24hr': 579500, 'low24hr': 572510, 'change': 3300.13, 'prevClose': 579300.01, 'prevOpen': 575999.88, 'pairing': 'THB_BTC', 'timestamp': '2023/01/10 23:15:49'}\n",
      "Message delivered to {'last': 579300.01, 'lowestAsk': 579300.01, 'highestBid': 578891.57, 'percentChange': 0.57, 'baseVolume': 116.34621429, 'quoteVolume': 67045555.52, 'isFrozen': 0, 'high24hr': 579500, 'low24hr': 572510, 'change': 3300.13, 'prevClose': 579300.01, 'prevOpen': 575999.88, 'pairing': 'THB_BTC', 'timestamp': '2023/01/10 23:15:54'}\n",
      "Message delivered to {'last': 579300.01, 'lowestAsk': 579300.01, 'highestBid': 578891.63, 'percentChange': 0.57, 'baseVolume': 116.34342011, 'quoteVolume': 67043946.07, 'isFrozen': 0, 'high24hr': 579500, 'low24hr': 572510, 'change': 3300.19, 'prevClose': 579300.01, 'prevOpen': 575999.82, 'pairing': 'THB_BTC', 'timestamp': '2023/01/10 23:15:59'}\n",
      "Message delivered to {'last': 579300.01, 'lowestAsk': 579300.01, 'highestBid': 578891.63, 'percentChange': 0.57, 'baseVolume': 116.34342011, 'quoteVolume': 67043946.07, 'isFrozen': 0, 'high24hr': 579500, 'low24hr': 572510, 'change': 3300.19, 'prevClose': 579300.01, 'prevOpen': 575999.82, 'pairing': 'THB_BTC', 'timestamp': '2023/01/10 23:16:05'}\n",
      "Message delivered to {'last': 579300.01, 'lowestAsk': 579300.01, 'highestBid': 578891.7, 'percentChange': 0.57, 'baseVolume': 116.34342, 'quoteVolume': 67043946.07, 'isFrozen': 0, 'high24hr': 579500, 'low24hr': 572510, 'change': 3300.2, 'prevClose': 579300.01, 'prevOpen': 575999.81, 'pairing': 'THB_BTC', 'timestamp': '2023/01/10 23:16:10'}\n",
      "Message delivered to {'last': 579300.01, 'lowestAsk': 579300.01, 'highestBid': 578891.77, 'percentChange': 0.57, 'baseVolume': 116.34342, 'quoteVolume': 67043946.07, 'isFrozen': 0, 'high24hr': 579500, 'low24hr': 572510, 'change': 3300.2, 'prevClose': 579300.01, 'prevOpen': 575999.81, 'pairing': 'THB_BTC', 'timestamp': '2023/01/10 23:16:15'}\n",
      "Message delivered to {'last': 579300.01, 'lowestAsk': 579300.01, 'highestBid': 578891.87, 'percentChange': 0.57, 'baseVolume': 116.34062289, 'quoteVolume': 67042334.94, 'isFrozen': 0, 'high24hr': 579500, 'low24hr': 572510, 'change': 3300.01, 'prevClose': 579300.01, 'prevOpen': 576000, 'pairing': 'THB_BTC', 'timestamp': '2023/01/10 23:16:20'}\n",
      "Message delivered to {'last': 579300.01, 'lowestAsk': 579300.01, 'highestBid': 578891.87, 'percentChange': 0.59, 'baseVolume': 116.33975701, 'quoteVolume': 67041836.19, 'isFrozen': 0, 'high24hr': 579500, 'low24hr': 572510, 'change': 3379.18, 'prevClose': 579300.01, 'prevOpen': 575920.83, 'pairing': 'THB_BTC', 'timestamp': '2023/01/10 23:16:26'}\n",
      "Message delivered to {'last': 579300.01, 'lowestAsk': 579300.01, 'highestBid': 578891.97, 'percentChange': 0.59, 'baseVolume': 116.33947201, 'quoteVolume': 67041672.05, 'isFrozen': 0, 'high24hr': 579500, 'low24hr': 572510, 'change': 3379.3, 'prevClose': 579300.01, 'prevOpen': 575920.71, 'pairing': 'THB_BTC', 'timestamp': '2023/01/10 23:16:31'}\n",
      "Message delivered to {'last': 579300.01, 'lowestAsk': 579300.01, 'highestBid': 578892.08, 'percentChange': 0.59, 'baseVolume': 116.34134202, 'quoteVolume': 67042755.35, 'isFrozen': 0, 'high24hr': 579500, 'low24hr': 572510, 'change': 3379.3, 'prevClose': 579300.01, 'prevOpen': 575920.71, 'pairing': 'THB_BTC', 'timestamp': '2023/01/10 23:16:36'}\n",
      "Message delivered to {'last': 579300.01, 'lowestAsk': 579300.01, 'highestBid': 578892.11, 'percentChange': 0.59, 'baseVolume': 116.34408868, 'quoteVolume': 67044346.07, 'isFrozen': 0, 'high24hr': 579500, 'low24hr': 572510, 'change': 3379.3, 'prevClose': 579300.01, 'prevOpen': 575920.71, 'pairing': 'THB_BTC', 'timestamp': '2023/01/10 23:16:42'}\n",
      "Message delivered to {'last': 579300.01, 'lowestAsk': 579300.01, 'highestBid': 578892.26, 'percentChange': 0.59, 'baseVolume': 116.32863517, 'quoteVolume': 67035446.08, 'isFrozen': 0, 'high24hr': 579500, 'low24hr': 572510, 'change': 3379.29, 'prevClose': 579300.01, 'prevOpen': 575920.72, 'pairing': 'THB_BTC', 'timestamp': '2023/01/10 23:16:47'}\n",
      "Message delivered to {'last': 579300.01, 'lowestAsk': 579300, 'highestBid': 578892.37, 'percentChange': 0.59, 'baseVolume': 116.34579609, 'quoteVolume': 67045446.07, 'isFrozen': 0, 'high24hr': 579500, 'low24hr': 572510, 'change': 3379.28, 'prevClose': 579300.01, 'prevOpen': 575920.73, 'pairing': 'THB_BTC', 'timestamp': '2023/01/10 23:16:52'}\n",
      "Message delivered to {'last': 579300.01, 'lowestAsk': 579300, 'highestBid': 578892.44, 'percentChange': 0.59, 'baseVolume': 116.34579609, 'quoteVolume': 67045446.07, 'isFrozen': 0, 'high24hr': 579500, 'low24hr': 572510, 'change': 3379.28, 'prevClose': 579300.01, 'prevOpen': 575920.73, 'pairing': 'THB_BTC', 'timestamp': '2023/01/10 23:16:57'}\n",
      "Message delivered to {'last': 579300.01, 'lowestAsk': 579300, 'highestBid': 578892.5, 'percentChange': 0.64, 'baseVolume': 116.3277509, 'quoteVolume': 67035053.48, 'isFrozen': 0, 'high24hr': 579500, 'low24hr': 572510, 'change': 3686.99, 'prevClose': 579300.01, 'prevOpen': 575613.02, 'pairing': 'THB_BTC', 'timestamp': '2023/01/10 23:17:03'}\n",
      "Message delivered to {'last': 579300.01, 'lowestAsk': 579285, 'highestBid': 578892.56, 'percentChange': 0.64, 'baseVolume': 116.3277509, 'quoteVolume': 67035053.48, 'isFrozen': 0, 'high24hr': 579500, 'low24hr': 572510, 'change': 3686.99, 'prevClose': 579300.01, 'prevOpen': 575613.02, 'pairing': 'THB_BTC', 'timestamp': '2023/01/10 23:17:08'}\n",
      "Message delivered to {'last': 579285, 'lowestAsk': 579285, 'highestBid': 578892.65, 'percentChange': 0.57, 'baseVolume': 116.33206656, 'quoteVolume': 67037553.47, 'isFrozen': 0, 'high24hr': 579500, 'low24hr': 572510, 'change': 3285.05, 'prevClose': 579285, 'prevOpen': 575999.95, 'pairing': 'THB_BTC', 'timestamp': '2023/01/10 23:17:13'}\n",
      "Message delivered to {'last': 578892.65, 'lowestAsk': 579284.99, 'highestBid': 578892.69, 'percentChange': 0.5, 'baseVolume': 116.32124651, 'quoteVolume': 67031325.33, 'isFrozen': 0, 'high24hr': 579500, 'low24hr': 572510, 'change': 2892.7, 'prevClose': 578892.65, 'prevOpen': 575999.95, 'pairing': 'THB_BTC', 'timestamp': '2023/01/10 23:17:18'}\n",
      "Message delivered to {'last': 578892.65, 'lowestAsk': 579284.97, 'highestBid': 578892.74, 'percentChange': 0.5, 'baseVolume': 116.32124651, 'quoteVolume': 67031325.33, 'isFrozen': 0, 'high24hr': 579500, 'low24hr': 572510, 'change': 2892.7, 'prevClose': 578892.65, 'prevOpen': 575999.95, 'pairing': 'THB_BTC', 'timestamp': '2023/01/10 23:17:24'}\n",
      "Message delivered to {'last': 579284.97, 'lowestAsk': 579285, 'highestBid': 578892.77, 'percentChange': 0.57, 'baseVolume': 116.32556217, 'quoteVolume': 67033825.32, 'isFrozen': 0, 'high24hr': 579500, 'low24hr': 572510, 'change': 3285.02, 'prevClose': 579284.97, 'prevOpen': 575999.95, 'pairing': 'THB_BTC', 'timestamp': '2023/01/10 23:17:29'}\n",
      "Message delivered to {'last': 579284.97, 'lowestAsk': 579285, 'highestBid': 578892.84, 'percentChange': 0.57, 'baseVolume': 116.32556217, 'quoteVolume': 67033825.32, 'isFrozen': 0, 'high24hr': 579500, 'low24hr': 572510, 'change': 3285.02, 'prevClose': 579284.97, 'prevOpen': 575999.95, 'pairing': 'THB_BTC', 'timestamp': '2023/01/10 23:17:34'}\n",
      "Message delivered to {'last': 579284.97, 'lowestAsk': 579284.95, 'highestBid': 578892.72, 'percentChange': 0.57, 'baseVolume': 116.31061418, 'quoteVolume': 67025216.37, 'isFrozen': 0, 'high24hr': 579500, 'low24hr': 572510, 'change': 3285.06, 'prevClose': 579284.97, 'prevOpen': 575999.91, 'pairing': 'THB_BTC', 'timestamp': '2023/01/10 23:17:40'}\n",
      "Message delivered to {'last': 579284.97, 'lowestAsk': 579284.95, 'highestBid': 578890.06, 'percentChange': 0.57, 'baseVolume': 116.31061418, 'quoteVolume': 67025216.37, 'isFrozen': 0, 'high24hr': 579500, 'low24hr': 572510, 'change': 3285.06, 'prevClose': 579284.97, 'prevOpen': 575999.91, 'pairing': 'THB_BTC', 'timestamp': '2023/01/10 23:17:45'}\n"
     ]
    },
    {
     "name": "stdout",
     "output_type": "stream",
     "text": [
      "Message delivered to {'last': 579284.97, 'lowestAsk': 579284.94, 'highestBid': 578890.12, 'percentChange': 0.57, 'baseVolume': 116.31061418, 'quoteVolume': 67025216.37, 'isFrozen': 0, 'high24hr': 579500, 'low24hr': 572510, 'change': 3285.06, 'prevClose': 579284.97, 'prevOpen': 575999.91, 'pairing': 'THB_BTC', 'timestamp': '2023/01/10 23:17:50'}\n",
      "Message delivered to {'last': 579284.97, 'lowestAsk': 579284.93, 'highestBid': 578890.2, 'percentChange': 0.57, 'baseVolume': 116.31061418, 'quoteVolume': 67025216.37, 'isFrozen': 0, 'high24hr': 579500, 'low24hr': 572510, 'change': 3285.06, 'prevClose': 579284.97, 'prevOpen': 575999.91, 'pairing': 'THB_BTC', 'timestamp': '2023/01/10 23:17:56'}\n",
      "Message delivered to {'last': 579284.93, 'lowestAsk': 579284.93, 'highestBid': 578890.27, 'percentChange': 0.57, 'baseVolume': 116.31068305, 'quoteVolume': 67025256.26, 'isFrozen': 0, 'high24hr': 579500, 'low24hr': 572510, 'change': 3285.92, 'prevClose': 579284.93, 'prevOpen': 575999.01, 'pairing': 'THB_BTC', 'timestamp': '2023/01/10 23:18:01'}\n",
      "Message delivered to {'last': 579284.92, 'lowestAsk': 579284.92, 'highestBid': 578890.34, 'percentChange': 0.57, 'baseVolume': 116.31068294, 'quoteVolume': 67025256.26, 'isFrozen': 0, 'high24hr': 579500, 'low24hr': 572510, 'change': 3285.91, 'prevClose': 579284.92, 'prevOpen': 575999.01, 'pairing': 'THB_BTC', 'timestamp': '2023/01/10 23:18:06'}\n",
      "Message delivered to {'last': 579284.92, 'lowestAsk': 579270, 'highestBid': 578890.41, 'percentChange': 0.57, 'baseVolume': 116.30156657, 'quoteVolume': 67020005.24, 'isFrozen': 0, 'high24hr': 579500, 'low24hr': 572510, 'change': 3285.9, 'prevClose': 579284.92, 'prevOpen': 575999.02, 'pairing': 'THB_BTC', 'timestamp': '2023/01/10 23:18:11'}\n",
      "Message delivered to {'last': 579284.92, 'lowestAsk': 579269.99, 'highestBid': 578890, 'percentChange': 0.57, 'baseVolume': 116.30156657, 'quoteVolume': 67020005.24, 'isFrozen': 0, 'high24hr': 579500, 'low24hr': 572510, 'change': 3285.9, 'prevClose': 579284.92, 'prevOpen': 575999.02, 'pairing': 'THB_BTC', 'timestamp': '2023/01/10 23:18:17'}\n",
      "Message delivered to {'last': 578890, 'lowestAsk': 579269.99, 'highestBid': 578890, 'percentChange': 0.5, 'baseVolume': 116.30456657, 'quoteVolume': 67021741.91, 'isFrozen': 0, 'high24hr': 579500, 'low24hr': 572510, 'change': 2890.98, 'prevClose': 578890, 'prevOpen': 575999.02, 'pairing': 'THB_BTC', 'timestamp': '2023/01/10 23:18:22'}\n",
      "Message delivered to {'last': 578890, 'lowestAsk': 579269.95, 'highestBid': 578890.05, 'percentChange': 0.5, 'baseVolume': 116.28720543, 'quoteVolume': 67011741.91, 'isFrozen': 0, 'high24hr': 579500, 'low24hr': 572510, 'change': 2890, 'prevClose': 578890, 'prevOpen': 576000, 'pairing': 'THB_BTC', 'timestamp': '2023/01/10 23:18:28'}\n",
      "Message delivered to {'last': 578890, 'lowestAsk': 579269.95, 'highestBid': 578890, 'percentChange': 0.5, 'baseVolume': 116.28720543, 'quoteVolume': 67011741.91, 'isFrozen': 0, 'high24hr': 579500, 'low24hr': 572510, 'change': 2890, 'prevClose': 578890, 'prevOpen': 576000, 'pairing': 'THB_BTC', 'timestamp': '2023/01/10 23:18:33'}\n",
      "Message delivered to {'last': 578890, 'lowestAsk': 579269.95, 'highestBid': 578890.05, 'percentChange': 0.5, 'baseVolume': 116.30418688, 'quoteVolume': 67021572.3, 'isFrozen': 0, 'high24hr': 579500, 'low24hr': 572510, 'change': 2890, 'prevClose': 578890, 'prevOpen': 576000, 'pairing': 'THB_BTC', 'timestamp': '2023/01/10 23:18:38'}\n",
      "Message delivered to {'last': 578890.05, 'lowestAsk': 579269.94, 'highestBid': 578890.1, 'percentChange': 0.5, 'baseVolume': 116.30850548, 'quoteVolume': 67024072.29, 'isFrozen': 0, 'high24hr': 579500, 'low24hr': 572510, 'change': 2890.05, 'prevClose': 578890.05, 'prevOpen': 576000, 'pairing': 'THB_BTC', 'timestamp': '2023/01/10 23:18:44'}\n",
      "Message delivered to {'last': 578890.05, 'lowestAsk': 579269.91, 'highestBid': 578890.1, 'percentChange': 0.5, 'baseVolume': 116.30850548, 'quoteVolume': 67024072.29, 'isFrozen': 0, 'high24hr': 579500, 'low24hr': 572510, 'change': 2890.05, 'prevClose': 578890.05, 'prevOpen': 576000, 'pairing': 'THB_BTC', 'timestamp': '2023/01/10 23:18:49'}\n",
      "Message delivered to {'last': 578890.05, 'lowestAsk': 579269.89, 'highestBid': 578890.1, 'percentChange': 0.5, 'baseVolume': 116.30778151, 'quoteVolume': 67023655.29, 'isFrozen': 0, 'high24hr': 579500, 'low24hr': 572510, 'change': 2890.05, 'prevClose': 578890.05, 'prevOpen': 576000, 'pairing': 'THB_BTC', 'timestamp': '2023/01/10 23:18:54'}\n",
      "Message delivered to {'last': 578890.05, 'lowestAsk': 579269.89, 'highestBid': 578890.1, 'percentChange': 0.5, 'baseVolume': 116.30778151, 'quoteVolume': 67023655.29, 'isFrozen': 0, 'high24hr': 579500, 'low24hr': 572510, 'change': 2890.05, 'prevClose': 578890.05, 'prevOpen': 576000, 'pairing': 'THB_BTC', 'timestamp': '2023/01/10 23:19:00'}\n",
      "Message delivered to {'last': 578890.05, 'lowestAsk': 579269.87, 'highestBid': 578890.05, 'percentChange': 0.5, 'baseVolume': 116.30778151, 'quoteVolume': 67023655.29, 'isFrozen': 0, 'high24hr': 579500, 'low24hr': 572510, 'change': 2890.05, 'prevClose': 578890.05, 'prevOpen': 576000, 'pairing': 'THB_BTC', 'timestamp': '2023/01/10 23:19:05'}\n",
      "Message delivered to {'last': 578890.05, 'lowestAsk': 579269.84, 'highestBid': 578890.05, 'percentChange': 0.5, 'baseVolume': 116.22719022, 'quoteVolume': 66977247.19, 'isFrozen': 0, 'high24hr': 579500, 'low24hr': 572510, 'change': 2890.05, 'prevClose': 578890.05, 'prevOpen': 576000, 'pairing': 'THB_BTC', 'timestamp': '2023/01/10 23:19:10'}\n",
      "Message delivered to {'last': 578890.05, 'lowestAsk': 579232.99, 'highestBid': 578890.1, 'percentChange': 0.5, 'baseVolume': 116.20982908, 'quoteVolume': 66967247.17, 'isFrozen': 0, 'high24hr': 579500, 'low24hr': 572510, 'change': 2890.04, 'prevClose': 578890.05, 'prevOpen': 576000.01, 'pairing': 'THB_BTC', 'timestamp': '2023/01/10 23:19:16'}\n",
      "Message delivered to {'last': 578890.05, 'lowestAsk': 579232.97, 'highestBid': 578890.1, 'percentChange': 0.45, 'baseVolume': 116.19505538, 'quoteVolume': 66958749.66, 'isFrozen': 0, 'high24hr': 579500, 'low24hr': 572510, 'change': 2605.05, 'prevClose': 578890.05, 'prevOpen': 576285, 'pairing': 'THB_BTC', 'timestamp': '2023/01/10 23:19:21'}\n",
      "Message delivered to {'last': 578890.05, 'lowestAsk': 579232.97, 'highestBid': 578890.1, 'percentChange': 0.45, 'baseVolume': 116.19505538, 'quoteVolume': 66958749.66, 'isFrozen': 0, 'high24hr': 579500, 'low24hr': 572510, 'change': 2605.05, 'prevClose': 578890.05, 'prevOpen': 576285, 'pairing': 'THB_BTC', 'timestamp': '2023/01/10 23:19:26'}\n",
      "Message delivered to {'last': 578890.05, 'lowestAsk': 579232.97, 'highestBid': 578890.1, 'percentChange': 0.45, 'baseVolume': 116.19505538, 'quoteVolume': 66958749.66, 'isFrozen': 0, 'high24hr': 579500, 'low24hr': 572510, 'change': 2605.05, 'prevClose': 578890.05, 'prevOpen': 576285, 'pairing': 'THB_BTC', 'timestamp': '2023/01/10 23:19:32'}\n",
      "Message delivered to {'last': 578890.05, 'lowestAsk': 579232.95, 'highestBid': 578890.1, 'percentChange': 0.45, 'baseVolume': 116.19505538, 'quoteVolume': 66958749.66, 'isFrozen': 0, 'high24hr': 579500, 'low24hr': 572510, 'change': 2605.05, 'prevClose': 578890.05, 'prevOpen': 576285, 'pairing': 'THB_BTC', 'timestamp': '2023/01/10 23:19:37'}\n",
      "Message delivered to {'last': 578890.05, 'lowestAsk': 579232.95, 'highestBid': 578890.1, 'percentChange': 0.45, 'baseVolume': 116.19505538, 'quoteVolume': 66958749.66, 'isFrozen': 0, 'high24hr': 579500, 'low24hr': 572510, 'change': 2605.05, 'prevClose': 578890.05, 'prevOpen': 576285, 'pairing': 'THB_BTC', 'timestamp': '2023/01/10 23:19:42'}\n",
      "Message delivered to {'last': 578890.05, 'lowestAsk': 579232.93, 'highestBid': 578890.1, 'percentChange': 0.45, 'baseVolume': 116.19505538, 'quoteVolume': 66958749.66, 'isFrozen': 0, 'high24hr': 579500, 'low24hr': 572510, 'change': 2605.05, 'prevClose': 578890.05, 'prevOpen': 576285, 'pairing': 'THB_BTC', 'timestamp': '2023/01/10 23:19:47'}\n",
      "Message delivered to {'last': 578890.05, 'lowestAsk': 579232.9, 'highestBid': 578890.05, 'percentChange': 0.45, 'baseVolume': 116.19505538, 'quoteVolume': 66958749.66, 'isFrozen': 0, 'high24hr': 579500, 'low24hr': 572510, 'change': 2605.05, 'prevClose': 578890.05, 'prevOpen': 576285, 'pairing': 'THB_BTC', 'timestamp': '2023/01/10 23:19:53'}\n"
     ]
    },
    {
     "name": "stdout",
     "output_type": "stream",
     "text": [
      "Message delivered to {'last': 578890.05, 'lowestAsk': 579232.89, 'highestBid': 578890.1, 'percentChange': 0.45, 'baseVolume': 116.19505538, 'quoteVolume': 66958749.66, 'isFrozen': 0, 'high24hr': 579500, 'low24hr': 572510, 'change': 2605.05, 'prevClose': 578890.05, 'prevOpen': 576285, 'pairing': 'THB_BTC', 'timestamp': '2023/01/10 23:19:58'}\n",
      "Message delivered to {'last': 579232.87, 'lowestAsk': 579232.86, 'highestBid': 578890.1, 'percentChange': 0.56, 'baseVolume': 116.19505529, 'quoteVolume': 66958749.67, 'isFrozen': 0, 'high24hr': 579500, 'low24hr': 572510, 'change': 3232.8, 'prevClose': 579232.87, 'prevOpen': 576000.07, 'pairing': 'THB_BTC', 'timestamp': '2023/01/10 23:20:03'}\n",
      "Message delivered to {'last': 579232.87, 'lowestAsk': 579232.82, 'highestBid': 578890.1, 'percentChange': 0.56, 'baseVolume': 116.19071502, 'quoteVolume': 66956249.67, 'isFrozen': 0, 'high24hr': 579500, 'low24hr': 572510, 'change': 3232.74, 'prevClose': 579232.87, 'prevOpen': 576000.13, 'pairing': 'THB_BTC', 'timestamp': '2023/01/10 23:20:08'}\n",
      "Message delivered to {'last': 579232.87, 'lowestAsk': 579232.81, 'highestBid': 578890.16, 'percentChange': 0.56, 'baseVolume': 116.19071502, 'quoteVolume': 66956249.67, 'isFrozen': 0, 'high24hr': 579500, 'low24hr': 572510, 'change': 3232.73, 'prevClose': 579232.87, 'prevOpen': 576000.14, 'pairing': 'THB_BTC', 'timestamp': '2023/01/10 23:20:14'}\n",
      "Message delivered to {'last': 579232.87, 'lowestAsk': 579232.79, 'highestBid': 578890.1, 'percentChange': 0.56, 'baseVolume': 116.18897891, 'quoteVolume': 66955249.67, 'isFrozen': 0, 'high24hr': 579500, 'low24hr': 572510, 'change': 3232.73, 'prevClose': 579232.87, 'prevOpen': 576000.14, 'pairing': 'THB_BTC', 'timestamp': '2023/01/10 23:20:19'}\n",
      "Message delivered to {'last': 579232.87, 'lowestAsk': 579232.75, 'highestBid': 578890.11, 'percentChange': 0.56, 'baseVolume': 116.18463864, 'quoteVolume': 66952749.68, 'isFrozen': 0, 'high24hr': 579500, 'low24hr': 572510, 'change': 3232.87, 'prevClose': 579232.87, 'prevOpen': 576000, 'pairing': 'THB_BTC', 'timestamp': '2023/01/10 23:20:24'}\n",
      "Message delivered to {'last': 578890.1, 'lowestAsk': 579232.7, 'highestBid': 578890.1, 'percentChange': 0.5, 'baseVolume': 116.18861176, 'quoteVolume': 66955049.68, 'isFrozen': 0, 'high24hr': 579500, 'low24hr': 572510, 'change': 2890.1, 'prevClose': 578890.1, 'prevOpen': 576000, 'pairing': 'THB_BTC', 'timestamp': '2023/01/10 23:20:30'}\n",
      "Message delivered to {'last': 578890.1, 'lowestAsk': 579232.69, 'highestBid': 578890.05, 'percentChange': 0.5, 'baseVolume': 116.18427149, 'quoteVolume': 66952549.68, 'isFrozen': 0, 'high24hr': 579500, 'low24hr': 572510, 'change': 2889.98, 'prevClose': 578890.1, 'prevOpen': 576000.12, 'pairing': 'THB_BTC', 'timestamp': '2023/01/10 23:20:35'}\n",
      "Message delivered to {'last': 578890.1, 'lowestAsk': 579232.58, 'highestBid': 578890.17, 'percentChange': 0.5, 'baseVolume': 116.18427149, 'quoteVolume': 66952549.68, 'isFrozen': 0, 'high24hr': 579500, 'low24hr': 572510, 'change': 2889.98, 'prevClose': 578890.1, 'prevOpen': 576000.12, 'pairing': 'THB_BTC', 'timestamp': '2023/01/10 23:20:40'}\n",
      "Message delivered to {'last': 578890.1, 'lowestAsk': 579232.52, 'highestBid': 578890.23, 'percentChange': 0.5, 'baseVolume': 116.17107705, 'quoteVolume': 66944949.68, 'isFrozen': 0, 'high24hr': 579500, 'low24hr': 572510, 'change': 2889.85, 'prevClose': 578890.1, 'prevOpen': 576000.25, 'pairing': 'THB_BTC', 'timestamp': '2023/01/10 23:20:46'}\n",
      "Message delivered to {'last': 578890.1, 'lowestAsk': 579232.45, 'highestBid': 578890.11, 'percentChange': 0.5, 'baseVolume': 116.17539565, 'quoteVolume': 66947449.68, 'isFrozen': 0, 'high24hr': 579500, 'low24hr': 572510, 'change': 2889.85, 'prevClose': 578890.06, 'prevOpen': 576000.25, 'pairing': 'THB_BTC', 'timestamp': '2023/01/10 23:20:51'}\n",
      "Message delivered to {'last': 578890.06, 'lowestAsk': 579232.33, 'highestBid': 578895, 'percentChange': 0.5, 'baseVolume': 116.17539565, 'quoteVolume': 66947449.68, 'isFrozen': 0, 'high24hr': 579500, 'low24hr': 572510, 'change': 2889.81, 'prevClose': 578890.06, 'prevOpen': 576000.25, 'pairing': 'THB_BTC', 'timestamp': '2023/01/10 23:20:56'}\n",
      "Message delivered to {'last': 578895.01, 'lowestAsk': 579232.25, 'highestBid': 578910, 'percentChange': 0.5, 'baseVolume': 116.17971422, 'quoteVolume': 66949949.68, 'isFrozen': 0, 'high24hr': 579500, 'low24hr': 572510, 'change': 2894.69, 'prevClose': 578895.01, 'prevOpen': 576000.32, 'pairing': 'THB_BTC', 'timestamp': '2023/01/10 23:21:01'}\n"
     ]
    },
    {
     "ename": "KeyboardInterrupt",
     "evalue": "",
     "output_type": "error",
     "traceback": [
      "\u001b[1;31m---------------------------------------------------------------------------\u001b[0m",
      "\u001b[1;31mKeyboardInterrupt\u001b[0m                         Traceback (most recent call last)",
      "Input \u001b[1;32mIn [2]\u001b[0m, in \u001b[0;36m<cell line: 27>\u001b[1;34m()\u001b[0m\n\u001b[0;32m     38\u001b[0m p\u001b[38;5;241m.\u001b[39mproduce(\u001b[38;5;124m'\u001b[39m\u001b[38;5;124mjjmm_bitkub\u001b[39m\u001b[38;5;124m'\u001b[39m, key\u001b[38;5;241m=\u001b[39m\u001b[38;5;124m\"\u001b[39m\u001b[38;5;124mid\u001b[39m\u001b[38;5;132;01m{}\u001b[39;00m\u001b[38;5;124m\"\u001b[39m\u001b[38;5;241m.\u001b[39mformat(ID\u001b[38;5;241m.\u001b[39mhex), value\u001b[38;5;241m=\u001b[39msendMsg , callback\u001b[38;5;241m=\u001b[39mdelivery_report)\n\u001b[0;32m     39\u001b[0m p\u001b[38;5;241m.\u001b[39mflush()\n\u001b[1;32m---> 40\u001b[0m \u001b[43msleep\u001b[49m\u001b[43m(\u001b[49m\u001b[38;5;241;43m5\u001b[39;49m\u001b[43m)\u001b[49m\n",
      "\u001b[1;31mKeyboardInterrupt\u001b[0m: "
     ]
    }
   ],
   "source": [
    "# Producer\n",
    "from time import sleep\n",
    "from json import dumps\n",
    "from confluent_kafka import Producer\n",
    "from datetime import datetime\n",
    "import requests\n",
    "import uuid\n",
    "ID=uuid.uuid1()\n",
    "\n",
    "key = \"https://api.bitkub.com/api/market/ticker\"\n",
    "params={\"sym\":\"THB_BTC\"}\n",
    "#key = \"https://api.binance.com/api/v3/ticker/price?symbol=BTCUSDT\"\n",
    "\n",
    "p = Producer({'bootstrap.servers': '\"xxxx\":9092'}) #replace \"xxxx\" with kafka sever\n",
    "ID=uuid.uuid1()\n",
    "def delivery_report(err, msg):\n",
    "    \"\"\" Called once for each message produced to indicate delivery result.\n",
    "        Triggered by poll() or flush(). \"\"\"\n",
    "    if err is not None:\n",
    "        print('Message delivery failed: {}'.format(err))\n",
    "    else:\n",
    "        print('Message delivered to {}'.format(msg.value().decode('utf-8')))\n",
    "\n",
    " #file1.readlines()\n",
    "\n",
    "while True:\n",
    "    data = requests.get(key,params=params)\n",
    "    data = data.json()\n",
    "    p.poll(0)\n",
    "    data['timestamp']=datetime.now().strftime(\"%Y/%m/%d %H:%M:%S\")\n",
    "    B=list(data.keys())\n",
    "    detial=data[\"THB_BTC\"]\n",
    "    del detial[\"id\"]\n",
    "    detial[\"pairing\"]=B[0]\n",
    "    detial[str(B[1])]=data[\"timestamp\"]\n",
    "    line=str(detial)\n",
    "    sendMsg = line.encode().decode('utf-8').strip('\\n')\n",
    "    p.produce('jjmm_bitkub', key=\"id{}\".format(ID.hex), value=sendMsg , callback=delivery_report)\n",
    "    p.flush()\n",
    "    sleep(5)"
   ]
  },
  {
   "cell_type": "code",
   "execution_count": null,
   "id": "3c671953",
   "metadata": {},
   "outputs": [],
   "source": []
  }
 ],
 "metadata": {
  "kernelspec": {
   "display_name": "Python 3",
   "language": "python",
   "name": "python3"
  },
  "language_info": {
   "codemirror_mode": {
    "name": "ipython",
    "version": 3
   },
   "file_extension": ".py",
   "mimetype": "text/x-python",
   "name": "python",
   "nbconvert_exporter": "python",
   "pygments_lexer": "ipython3",
   "version": "3.10.9 (tags/v3.10.9:1dd9be6, Dec  6 2022, 20:01:21) [MSC v.1934 64 bit (AMD64)]"
  },
  "vscode": {
   "interpreter": {
    "hash": "c4232d6060a471f8f9b7067fffb510ceeb212d2da825f1912188765e1e98e69a"
   }
  }
 },
 "nbformat": 4,
 "nbformat_minor": 5
}
