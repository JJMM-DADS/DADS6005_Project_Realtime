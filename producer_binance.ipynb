{
 "cells": [
  {
   "cell_type": "code",
   "execution_count": 1,
   "id": "8b49fb41",
   "metadata": {
    "scrolled": false
   },
   "outputs": [
    {
     "name": "stdout",
     "output_type": "stream",
     "text": [
      "Message delivered to {'symbol': 'BTCUSDT', 'priceChange': 8.22, 'priceChangePercent': '0.047', 'weightedAvgPrice': '17332.60023097', 'openPrice': 17328.8, 'highPrice': 17339.28, 'lowPrice': 17326.32, 'lastPrice': 17337.02, 'volume': '255.68599000', 'quoteVolume': '4431703.04932870', 'openTime': 1673367240000, 'closeTime': 1673367320431, 'firstId': 2454248190, 'lastId': 2454255246, 'count': 7057, 'timestamp': '2023/01/10 23:15:20'}\n",
      "Message delivered to {'symbol': 'BTCUSDT', 'priceChange': 6.26, 'priceChangePercent': '0.036', 'weightedAvgPrice': '17332.97553907', 'openPrice': 17328.8, 'highPrice': 17339.28, 'lowPrice': 17326.32, 'lastPrice': 17335.06, 'volume': '302.46913000', 'quoteVolume': '5242690.03161350', 'openTime': 1673367240000, 'closeTime': 1673367326333, 'firstId': 2454248190, 'lastId': 2454256060, 'count': 7871, 'timestamp': '2023/01/10 23:15:26'}\n",
      "Message delivered to {'symbol': 'BTCUSDT', 'priceChange': 2.85, 'priceChangePercent': '0.016', 'weightedAvgPrice': '17333.06317397', 'openPrice': 17328.8, 'highPrice': 17339.28, 'lowPrice': 17326.32, 'lastPrice': 17331.65, 'volume': '330.09058000', 'quoteVolume': '5721480.87627100', 'openTime': 1673367240000, 'closeTime': 1673367331624, 'firstId': 2454248190, 'lastId': 2454256581, 'count': 8392, 'timestamp': '2023/01/10 23:15:31'}\n",
      "Message delivered to {'symbol': 'BTCUSDT', 'priceChange': 6.36, 'priceChangePercent': '0.037', 'weightedAvgPrice': '17333.09956038', 'openPrice': 17328.8, 'highPrice': 17339.28, 'lowPrice': 17326.32, 'lastPrice': 17335.16, 'volume': '359.99545000', 'quoteVolume': '6239836.97613350', 'openTime': 1673367240000, 'closeTime': 1673367336911, 'firstId': 2454248190, 'lastId': 2454257288, 'count': 9099, 'timestamp': '2023/01/10 23:15:37'}\n",
      "Message delivered to {'symbol': 'BTCUSDT', 'priceChange': 9.39, 'priceChangePercent': '0.054', 'weightedAvgPrice': '17333.29391021', 'openPrice': 17328.8, 'highPrice': 17339.28, 'lowPrice': 17326.32, 'lastPrice': 17338.19, 'volume': '380.13871000', 'quoteVolume': '6589055.98707820', 'openTime': 1673367240000, 'closeTime': 1673367342285, 'firstId': 2454248190, 'lastId': 2454257782, 'count': 9593, 'timestamp': '2023/01/10 23:15:42'}\n",
      "Message delivered to {'symbol': 'BTCUSDT', 'priceChange': 7.6, 'priceChangePercent': '0.044', 'weightedAvgPrice': '17333.44357000', 'openPrice': 17328.8, 'highPrice': 17339.62, 'lowPrice': 17326.32, 'lastPrice': 17336.4, 'volume': '393.55313000', 'quoteVolume': '6821630.97065190', 'openTime': 1673367240000, 'closeTime': 1673367347581, 'firstId': 2454248190, 'lastId': 2454258257, 'count': 10068, 'timestamp': '2023/01/10 23:15:47'}\n",
      "Message delivered to {'symbol': 'BTCUSDT', 'priceChange': 7.2, 'priceChangePercent': '0.042', 'weightedAvgPrice': '17333.58170889', 'openPrice': 17328.8, 'highPrice': 17339.62, 'lowPrice': 17326.32, 'lastPrice': 17336.0, 'volume': '414.83991000', 'quoteVolume': '7190661.47609270', 'openTime': 1673367240000, 'closeTime': 1673367352860, 'firstId': 2454248190, 'lastId': 2454258771, 'count': 10582, 'timestamp': '2023/01/10 23:15:53'}\n",
      "Message delivered to {'symbol': 'BTCUSDT', 'priceChange': 6.68, 'priceChangePercent': '0.039', 'weightedAvgPrice': '17333.67120187', 'openPrice': 17328.8, 'highPrice': 17339.62, 'lowPrice': 17326.32, 'lastPrice': 17335.48, 'volume': '428.99542000', 'quoteVolume': '7436065.55738700', 'openTime': 1673367240000, 'closeTime': 1673367358197, 'firstId': 2454248190, 'lastId': 2454259195, 'count': 11006, 'timestamp': '2023/01/10 23:15:58'}\n",
      "Message delivered to {'symbol': 'BTCUSDT', 'priceChange': 2.9, 'priceChangePercent': '0.017', 'weightedAvgPrice': '17335.55636472', 'openPrice': 17332.46, 'highPrice': 17339.62, 'lowPrice': 17330.35, 'lastPrice': 17335.36, 'volume': '279.43179000', 'quoteVolume': '4844105.54563870', 'openTime': 1673367300000, 'closeTime': 1673367363490, 'firstId': 2454253024, 'lastId': 2454259703, 'count': 6680, 'timestamp': '2023/01/10 23:16:03'}\n",
      "Message delivered to {'symbol': 'BTCUSDT', 'priceChange': 5.02, 'priceChangePercent': '0.029', 'weightedAvgPrice': '17335.59206885', 'openPrice': 17332.46, 'highPrice': 17339.62, 'lowPrice': 17330.35, 'lastPrice': 17337.48, 'volume': '287.64403000', 'quoteVolume': '4986479.56511930', 'openTime': 1673367300000, 'closeTime': 1673367368780, 'firstId': 2454253024, 'lastId': 2454260002, 'count': 6979, 'timestamp': '2023/01/10 23:16:09'}\n",
      "Message delivered to {'symbol': 'BTCUSDT', 'priceChange': 3.31, 'priceChangePercent': '0.019', 'weightedAvgPrice': '17335.63790785', 'openPrice': 17332.46, 'highPrice': 17339.62, 'lowPrice': 17330.35, 'lastPrice': 17335.77, 'volume': '297.97692000', 'quoteVolume': '5165619.99001550', 'openTime': 1673367300000, 'closeTime': 1673367374132, 'firstId': 2454253024, 'lastId': 2454260340, 'count': 7317, 'timestamp': '2023/01/10 23:16:14'}\n",
      "Message delivered to {'symbol': 'BTCUSDT', 'priceChange': 2.5, 'priceChangePercent': '0.014', 'weightedAvgPrice': '17335.60872089', 'openPrice': 17332.46, 'highPrice': 17339.62, 'lowPrice': 17330.35, 'lastPrice': 17334.96, 'volume': '315.34822000', 'quoteVolume': '5466753.35274780', 'openTime': 1673367300000, 'closeTime': 1673367379424, 'firstId': 2454253024, 'lastId': 2454260809, 'count': 7786, 'timestamp': '2023/01/10 23:16:19'}\n",
      "Message delivered to {'symbol': 'BTCUSDT', 'priceChange': 6.66, 'priceChangePercent': '0.038', 'weightedAvgPrice': '17335.66713851', 'openPrice': 17332.46, 'highPrice': 17339.62, 'lowPrice': 17330.35, 'lastPrice': 17339.12, 'volume': '335.15944000', 'quoteVolume': '5810212.49016910', 'openTime': 1673367300000, 'closeTime': 1673367384738, 'firstId': 2454253024, 'lastId': 2454261407, 'count': 8384, 'timestamp': '2023/01/10 23:16:24'}\n",
      "Message delivered to {'symbol': 'BTCUSDT', 'priceChange': 5.83, 'priceChangePercent': '0.034', 'weightedAvgPrice': '17335.78703176', 'openPrice': 17332.46, 'highPrice': 17339.62, 'lowPrice': 17330.35, 'lastPrice': 17338.29, 'volume': '349.06509000', 'quoteVolume': '6051318.06046330', 'openTime': 1673367300000, 'closeTime': 1673367390063, 'firstId': 2454253024, 'lastId': 2454261772, 'count': 8749, 'timestamp': '2023/01/10 23:16:30'}\n",
      "Message delivered to {'symbol': 'BTCUSDT', 'priceChange': 5.87, 'priceChangePercent': '0.034', 'weightedAvgPrice': '17335.83345468', 'openPrice': 17332.46, 'highPrice': 17339.66, 'lowPrice': 17330.35, 'lastPrice': 17338.33, 'volume': '354.84410000', 'quoteVolume': '6151518.21997580', 'openTime': 1673367300000, 'closeTime': 1673367395347, 'firstId': 2454253024, 'lastId': 2454262011, 'count': 8988, 'timestamp': '2023/01/10 23:16:35'}\n",
      "Message delivered to {'symbol': 'BTCUSDT', 'priceChange': 7.54, 'priceChangePercent': '0.044', 'weightedAvgPrice': '17336.21675458', 'openPrice': 17332.46, 'highPrice': 17341.94, 'lowPrice': 17330.35, 'lastPrice': 17340.0, 'volume': '390.52685000', 'quoteVolume': '6770258.12008380', 'openTime': 1673367300000, 'closeTime': 1673367400638, 'firstId': 2454253024, 'lastId': 2454262781, 'count': 9758, 'timestamp': '2023/01/10 23:16:40'}\n",
      "Message delivered to {'symbol': 'BTCUSDT', 'priceChange': 7.97, 'priceChangePercent': '0.046', 'weightedAvgPrice': '17336.48923876', 'openPrice': 17332.46, 'highPrice': 17341.94, 'lowPrice': 17330.35, 'lastPrice': 17340.43, 'volume': '416.82869000', 'quoteVolume': '7226346.09859320', 'openTime': 1673367300000, 'closeTime': 1673367405966, 'firstId': 2454253024, 'lastId': 2454263529, 'count': 10506, 'timestamp': '2023/01/10 23:16:46'}\n",
      "Message delivered to {'symbol': 'BTCUSDT', 'priceChange': 7.32, 'priceChangePercent': '0.042', 'weightedAvgPrice': '17336.57342395', 'openPrice': 17332.46, 'highPrice': 17341.94, 'lowPrice': 17330.35, 'lastPrice': 17339.78, 'volume': '426.23115000', 'quoteVolume': '7389387.62755080', 'openTime': 1673367300000, 'closeTime': 1673367411251, 'firstId': 2454253024, 'lastId': 2454263866, 'count': 10843, 'timestamp': '2023/01/10 23:16:51'}\n",
      "Message delivered to {'symbol': 'BTCUSDT', 'priceChange': 7.43, 'priceChangePercent': '0.043', 'weightedAvgPrice': '17336.73453017', 'openPrice': 17332.46, 'highPrice': 17341.97, 'lowPrice': 17330.35, 'lastPrice': 17339.89, 'volume': '450.60735000', 'quoteVolume': '7812060.00429220', 'openTime': 1673367300000, 'closeTime': 1673367416548, 'firstId': 2454253024, 'lastId': 2454264551, 'count': 11528, 'timestamp': '2023/01/10 23:16:56'}\n"
     ]
    },
    {
     "name": "stdout",
     "output_type": "stream",
     "text": [
      "Message delivered to {'symbol': 'BTCUSDT', 'priceChange': 0.46, 'priceChangePercent': '0.003', 'weightedAvgPrice': '17338.46401403', 'openPrice': 17335.78, 'highPrice': 17341.97, 'lowPrice': 17333.95, 'lastPrice': 17336.24, 'volume': '197.14702000', 'quoteVolume': '3418226.51174280', 'openTime': 1673367360000, 'closeTime': 1673367421895, 'firstId': 2454259445, 'lastId': 2454265251, 'count': 5807, 'timestamp': '2023/01/10 23:17:02'}\n",
      "Message delivered to {'symbol': 'BTCUSDT', 'priceChange': 2.19, 'priceChangePercent': '0.013', 'weightedAvgPrice': '17338.35766405', 'openPrice': 17335.78, 'highPrice': 17341.97, 'lowPrice': 17333.95, 'lastPrice': 17337.97, 'volume': '212.26807000', 'quoteVolume': '3680379.71831770', 'openTime': 1673367360000, 'closeTime': 1673367427195, 'firstId': 2454259445, 'lastId': 2454265653, 'count': 6209, 'timestamp': '2023/01/10 23:17:07'}\n",
      "Message delivered to {'symbol': 'BTCUSDT', 'priceChange': -0.07, 'priceChangePercent': '0.000', 'weightedAvgPrice': '17338.27138012', 'openPrice': 17335.78, 'highPrice': 17341.97, 'lowPrice': 17333.95, 'lastPrice': 17335.71, 'volume': '235.53640000', 'quoteVolume': '4083794.02309540', 'openTime': 1673367360000, 'closeTime': 1673367432491, 'firstId': 2454259445, 'lastId': 2454266301, 'count': 6857, 'timestamp': '2023/01/10 23:17:12'}\n",
      "Message delivered to {'symbol': 'BTCUSDT', 'priceChange': -3.35, 'priceChangePercent': '-0.019', 'weightedAvgPrice': '17337.83072200', 'openPrice': 17335.78, 'highPrice': 17341.97, 'lowPrice': 17331.85, 'lastPrice': 17332.43, 'volume': '258.95552000', 'quoteVolume': '4489726.97028660', 'openTime': 1673367360000, 'closeTime': 1673367437828, 'firstId': 2454259445, 'lastId': 2454266773, 'count': 7329, 'timestamp': '2023/01/10 23:17:18'}\n",
      "Message delivered to {'symbol': 'BTCUSDT', 'priceChange': -5.58, 'priceChangePercent': '-0.032', 'weightedAvgPrice': '17337.33974088', 'openPrice': 17335.78, 'highPrice': 17341.97, 'lowPrice': 17329.43, 'lastPrice': 17330.2, 'volume': '277.88808000', 'quoteVolume': '4817840.05290130', 'openTime': 1673367360000, 'closeTime': 1673367443116, 'firstId': 2454259445, 'lastId': 2454267352, 'count': 7908, 'timestamp': '2023/01/10 23:17:23'}\n",
      "Message delivered to {'symbol': 'BTCUSDT', 'priceChange': -2.81, 'priceChangePercent': '-0.016', 'weightedAvgPrice': '17336.86914637', 'openPrice': 17335.78, 'highPrice': 17341.97, 'lowPrice': 17329.43, 'lastPrice': 17332.97, 'volume': '306.89055000', 'quoteVolume': '5320521.30760830', 'openTime': 1673367360000, 'closeTime': 1673367448433, 'firstId': 2454259445, 'lastId': 2454267943, 'count': 8499, 'timestamp': '2023/01/10 23:17:28'}\n",
      "Message delivered to {'symbol': 'BTCUSDT', 'priceChange': -2.38, 'priceChangePercent': '-0.014', 'weightedAvgPrice': '17336.76628642', 'openPrice': 17335.78, 'highPrice': 17341.97, 'lowPrice': 17329.43, 'lastPrice': 17333.4, 'volume': '316.72561000', 'quoteVolume': '5490997.87749510', 'openTime': 1673367360000, 'closeTime': 1673367453770, 'firstId': 2454259445, 'lastId': 2454268338, 'count': 8894, 'timestamp': '2023/01/10 23:17:34'}\n",
      "Message delivered to {'symbol': 'BTCUSDT', 'priceChange': -4.38, 'priceChangePercent': '-0.025', 'weightedAvgPrice': '17336.15422728', 'openPrice': 17335.78, 'highPrice': 17341.97, 'lowPrice': 17328.07, 'lastPrice': 17331.4, 'volume': '349.60878000', 'quoteVolume': '6060871.72929010', 'openTime': 1673367360000, 'closeTime': 1673367459077, 'firstId': 2454259445, 'lastId': 2454268991, 'count': 9547, 'timestamp': '2023/01/10 23:17:39'}\n",
      "Message delivered to {'symbol': 'BTCUSDT', 'priceChange': -4.11, 'priceChangePercent': '-0.024', 'weightedAvgPrice': '17335.99613708', 'openPrice': 17335.78, 'highPrice': 17341.97, 'lowPrice': 17328.07, 'lastPrice': 17331.67, 'volume': '360.94505000', 'quoteVolume': '6257341.99249740', 'openTime': 1673367360000, 'closeTime': 1673367464382, 'firstId': 2454259445, 'lastId': 2454269385, 'count': 9941, 'timestamp': '2023/01/10 23:17:44'}\n",
      "Message delivered to {'symbol': 'BTCUSDT', 'priceChange': -1.74, 'priceChangePercent': '-0.010', 'weightedAvgPrice': '17335.88455196', 'openPrice': 17335.78, 'highPrice': 17341.97, 'lowPrice': 17328.07, 'lastPrice': 17334.04, 'volume': '373.69768000', 'quoteVolume': '6478379.83781550', 'openTime': 1673367360000, 'closeTime': 1673367469720, 'firstId': 2454259445, 'lastId': 2454269754, 'count': 10310, 'timestamp': '2023/01/10 23:17:49'}\n",
      "Message delivered to {'symbol': 'BTCUSDT', 'priceChange': -3.67, 'priceChangePercent': '-0.021', 'weightedAvgPrice': '17335.83087678', 'openPrice': 17335.78, 'highPrice': 17341.97, 'lowPrice': 17328.07, 'lastPrice': 17332.11, 'volume': '381.07808000', 'quoteVolume': '6606305.14572700', 'openTime': 1673367360000, 'closeTime': 1673367475013, 'firstId': 2454259445, 'lastId': 2454270064, 'count': 10620, 'timestamp': '2023/01/10 23:17:55'}\n",
      "Message delivered to {'symbol': 'BTCUSDT', 'priceChange': -6.78, 'priceChangePercent': '-0.039', 'weightedAvgPrice': '17333.20525632', 'openPrice': 17338.38, 'highPrice': 17339.82, 'lowPrice': 17328.07, 'lastPrice': 17331.6, 'volume': '197.85705000', 'quoteVolume': '3429496.85906000', 'openTime': 1673367420000, 'closeTime': 1673367480302, 'firstId': 2454264922, 'lastId': 2454270281, 'count': 5360, 'timestamp': '2023/01/10 23:18:00'}\n",
      "Message delivered to {'symbol': 'BTCUSDT', 'priceChange': -6.22, 'priceChangePercent': '-0.036', 'weightedAvgPrice': '17333.16511302', 'openPrice': 17338.38, 'highPrice': 17339.82, 'lowPrice': 17328.07, 'lastPrice': 17332.16, 'volume': '210.64763000', 'quoteVolume': '3651190.15145590', 'openTime': 1673367420000, 'closeTime': 1673367485655, 'firstId': 2454264922, 'lastId': 2454270815, 'count': 5894, 'timestamp': '2023/01/10 23:18:05'}\n",
      "Message delivered to {'symbol': 'BTCUSDT', 'priceChange': -7.62, 'priceChangePercent': '-0.044', 'weightedAvgPrice': '17333.09339286', 'openPrice': 17338.38, 'highPrice': 17339.82, 'lowPrice': 17328.07, 'lastPrice': 17330.76, 'volume': '218.80325000', 'quoteVolume': '3792537.16691160', 'openTime': 1673367420000, 'closeTime': 1673367490927, 'firstId': 2454264922, 'lastId': 2454271211, 'count': 6290, 'timestamp': '2023/01/10 23:18:11'}\n",
      "Message delivered to {'symbol': 'BTCUSDT', 'priceChange': -9.59, 'priceChangePercent': '-0.055', 'weightedAvgPrice': '17332.91546588', 'openPrice': 17338.38, 'highPrice': 17339.82, 'lowPrice': 17328.07, 'lastPrice': 17328.79, 'volume': '231.43498000', 'quoteVolume': '4011442.94418790', 'openTime': 1673367420000, 'closeTime': 1673367496266, 'firstId': 2454264922, 'lastId': 2454271636, 'count': 6715, 'timestamp': '2023/01/10 23:18:16'}\n",
      "Message delivered to {'symbol': 'BTCUSDT', 'priceChange': -9.26, 'priceChangePercent': '-0.053', 'weightedAvgPrice': '17332.75045938', 'openPrice': 17338.38, 'highPrice': 17339.82, 'lowPrice': 17327.66, 'lastPrice': 17329.12, 'volume': '241.92381000', 'quoteVolume': '4193205.02891350', 'openTime': 1673367420000, 'closeTime': 1673367501601, 'firstId': 2454264922, 'lastId': 2454271987, 'count': 7066, 'timestamp': '2023/01/10 23:18:21'}\n",
      "Message delivered to {'symbol': 'BTCUSDT', 'priceChange': -10.26, 'priceChangePercent': '-0.059', 'weightedAvgPrice': '17332.64170500', 'openPrice': 17338.38, 'highPrice': 17339.82, 'lowPrice': 17327.3, 'lastPrice': 17328.12, 'volume': '248.69493000', 'quoteVolume': '4310540.11554010', 'openTime': 1673367420000, 'closeTime': 1673367506901, 'firstId': 2454264922, 'lastId': 2454272267, 'count': 7346, 'timestamp': '2023/01/10 23:18:27'}\n",
      "Message delivered to {'symbol': 'BTCUSDT', 'priceChange': -10.74, 'priceChangePercent': '-0.062', 'weightedAvgPrice': '17332.42951561', 'openPrice': 17338.38, 'highPrice': 17339.82, 'lowPrice': 17327.01, 'lastPrice': 17327.64, 'volume': '259.70190000', 'quoteVolume': '4501264.87682040', 'openTime': 1673367420000, 'closeTime': 1673367512253, 'firstId': 2454264922, 'lastId': 2454272561, 'count': 7640, 'timestamp': '2023/01/10 23:18:32'}\n",
      "Message delivered to {'symbol': 'BTCUSDT', 'priceChange': -12.68, 'priceChangePercent': '-0.073', 'weightedAvgPrice': '17332.21608956', 'openPrice': 17338.38, 'highPrice': 17339.82, 'lowPrice': 17325.7, 'lastPrice': 17325.7, 'volume': '269.45052000', 'quoteVolume': '4670174.63808450', 'openTime': 1673367420000, 'closeTime': 1673367517605, 'firstId': 2454264922, 'lastId': 2454272852, 'count': 7931, 'timestamp': '2023/01/10 23:18:37'}\n"
     ]
    },
    {
     "name": "stdout",
     "output_type": "stream",
     "text": [
      "Message delivered to {'symbol': 'BTCUSDT', 'priceChange': -13.67, 'priceChangePercent': '-0.079', 'weightedAvgPrice': '17331.79989882', 'openPrice': 17338.38, 'highPrice': 17339.82, 'lowPrice': 17324.26, 'lastPrice': 17324.71, 'volume': '286.46396000', 'quoteVolume': '4964936.03294460', 'openTime': 1673367420000, 'closeTime': 1673367522901, 'firstId': 2454264922, 'lastId': 2454273323, 'count': 8402, 'timestamp': '2023/01/10 23:18:43'}\n",
      "Message delivered to {'symbol': 'BTCUSDT', 'priceChange': -14.71, 'priceChangePercent': '-0.085', 'weightedAvgPrice': '17330.77926257', 'openPrice': 17338.38, 'highPrice': 17339.82, 'lowPrice': 17321.09, 'lastPrice': 17323.67, 'volume': '324.29566000', 'quoteVolume': '5620296.49927090', 'openTime': 1673367420000, 'closeTime': 1673367528204, 'firstId': 2454264922, 'lastId': 2454274015, 'count': 9094, 'timestamp': '2023/01/10 23:18:48'}\n",
      "Message delivered to {'symbol': 'BTCUSDT', 'priceChange': -16.04, 'priceChangePercent': '-0.093', 'weightedAvgPrice': '17330.43585627', 'openPrice': 17338.38, 'highPrice': 17339.82, 'lowPrice': 17321.09, 'lastPrice': 17322.34, 'volume': '338.40553000', 'quoteVolume': '5864715.33107110', 'openTime': 1673367420000, 'closeTime': 1673367533551, 'firstId': 2454264922, 'lastId': 2454274489, 'count': 9568, 'timestamp': '2023/01/10 23:18:53'}\n",
      "Message delivered to {'symbol': 'BTCUSDT', 'priceChange': -16.88, 'priceChangePercent': '-0.097', 'weightedAvgPrice': '17330.11767831', 'openPrice': 17338.38, 'highPrice': 17339.82, 'lowPrice': 17320.81, 'lastPrice': 17321.5, 'volume': '351.22261000', 'quoteVolume': '6086729.16258460', 'openTime': 1673367420000, 'closeTime': 1673367538846, 'firstId': 2454264922, 'lastId': 2454274882, 'count': 9961, 'timestamp': '2023/01/10 23:18:59'}\n",
      "Message delivered to {'symbol': 'BTCUSDT', 'priceChange': -10.4, 'priceChangePercent': '-0.060', 'weightedAvgPrice': '17325.76888528', 'openPrice': 17331.91, 'highPrice': 17334.26, 'lowPrice': 17320.41, 'lastPrice': 17321.51, 'volume': '164.84377000', 'quoteVolume': '2856045.06119860', 'openTime': 1673367480000, 'closeTime': 1673367544161, 'firstId': 2454270353, 'lastId': 2454275347, 'count': 4995, 'timestamp': '2023/01/10 23:19:04'}\n",
      "Message delivered to {'symbol': 'BTCUSDT', 'priceChange': -13.26, 'priceChangePercent': '-0.077', 'weightedAvgPrice': '17324.55835977', 'openPrice': 17331.91, 'highPrice': 17334.26, 'lowPrice': 17317.5, 'lastPrice': 17318.65, 'volume': '201.75485000', 'quoteVolume': '3495313.67319150', 'openTime': 1673367480000, 'closeTime': 1673367549536, 'firstId': 2454270353, 'lastId': 2454275943, 'count': 5591, 'timestamp': '2023/01/10 23:19:09'}\n",
      "Message delivered to {'symbol': 'BTCUSDT', 'priceChange': -9.83, 'priceChangePercent': '-0.057', 'weightedAvgPrice': '17324.02894166', 'openPrice': 17331.91, 'highPrice': 17334.26, 'lowPrice': 17317.5, 'lastPrice': 17322.08, 'volume': '230.29955000', 'quoteVolume': '3989716.06945230', 'openTime': 1673367480000, 'closeTime': 1673367554822, 'firstId': 2454270353, 'lastId': 2454276520, 'count': 6168, 'timestamp': '2023/01/10 23:19:15'}\n",
      "Message delivered to {'symbol': 'BTCUSDT', 'priceChange': -9.07, 'priceChangePercent': '-0.052', 'weightedAvgPrice': '17323.96621129', 'openPrice': 17331.91, 'highPrice': 17334.26, 'lowPrice': 17317.5, 'lastPrice': 17322.84, 'volume': '243.54955000', 'quoteVolume': '4219244.17497580', 'openTime': 1673367480000, 'closeTime': 1673367560126, 'firstId': 2454270353, 'lastId': 2454276803, 'count': 6451, 'timestamp': '2023/01/10 23:19:20'}\n",
      "Message delivered to {'symbol': 'BTCUSDT', 'priceChange': -9.22, 'priceChangePercent': '-0.053', 'weightedAvgPrice': '17323.91327081', 'openPrice': 17331.91, 'highPrice': 17334.26, 'lowPrice': 17317.5, 'lastPrice': 17322.69, 'volume': '251.61596000', 'quoteVolume': '4358973.06859170', 'openTime': 1673367480000, 'closeTime': 1673367565464, 'firstId': 2454270353, 'lastId': 2454277034, 'count': 6682, 'timestamp': '2023/01/10 23:19:25'}\n",
      "Message delivered to {'symbol': 'BTCUSDT', 'priceChange': -9.63, 'priceChangePercent': '-0.056', 'weightedAvgPrice': '17323.75608370', 'openPrice': 17331.91, 'highPrice': 17334.26, 'lowPrice': 17317.5, 'lastPrice': 17322.28, 'volume': '269.88587000', 'quoteVolume': '4675436.98231830', 'openTime': 1673367480000, 'closeTime': 1673367570743, 'firstId': 2454270353, 'lastId': 2454277482, 'count': 7130, 'timestamp': '2023/01/10 23:19:30'}\n",
      "Message delivered to {'symbol': 'BTCUSDT', 'priceChange': -11.13, 'priceChangePercent': '-0.064', 'weightedAvgPrice': '17323.64524493', 'openPrice': 17331.91, 'highPrice': 17334.26, 'lowPrice': 17317.5, 'lastPrice': 17320.78, 'volume': '291.77868000', 'quoteVolume': '5054670.34235490', 'openTime': 1673367480000, 'closeTime': 1673367576051, 'firstId': 2454270353, 'lastId': 2454278025, 'count': 7673, 'timestamp': '2023/01/10 23:19:36'}\n",
      "Message delivered to {'symbol': 'BTCUSDT', 'priceChange': -11.93, 'priceChangePercent': '-0.069', 'weightedAvgPrice': '17323.52805470', 'openPrice': 17331.91, 'highPrice': 17334.26, 'lowPrice': 17317.5, 'lastPrice': 17319.98, 'volume': '302.52669000', 'quoteVolume': '5240829.60151150', 'openTime': 1673367480000, 'closeTime': 1673367581388, 'firstId': 2454270353, 'lastId': 2454278338, 'count': 7986, 'timestamp': '2023/01/10 23:19:41'}\n",
      "Message delivered to {'symbol': 'BTCUSDT', 'priceChange': -10.61, 'priceChangePercent': '-0.061', 'weightedAvgPrice': '17323.43029084', 'openPrice': 17331.91, 'highPrice': 17334.26, 'lowPrice': 17317.5, 'lastPrice': 17321.3, 'volume': '312.81176000', 'quoteVolume': '5418972.71851530', 'openTime': 1673367480000, 'closeTime': 1673367586675, 'firstId': 2454270353, 'lastId': 2454278752, 'count': 8400, 'timestamp': '2023/01/10 23:19:46'}\n",
      "Message delivered to {'symbol': 'BTCUSDT', 'priceChange': -12.53, 'priceChangePercent': '-0.072', 'weightedAvgPrice': '17323.19472384', 'openPrice': 17331.91, 'highPrice': 17334.26, 'lowPrice': 17317.5, 'lastPrice': 17319.38, 'volume': '336.68536000', 'quoteVolume': '5832466.05194680', 'openTime': 1673367480000, 'closeTime': 1673367591952, 'firstId': 2454270353, 'lastId': 2454279424, 'count': 9072, 'timestamp': '2023/01/10 23:19:52'}\n",
      "Message delivered to {'symbol': 'BTCUSDT', 'priceChange': -13.0, 'priceChangePercent': '-0.075', 'weightedAvgPrice': '17323.05470326', 'openPrice': 17331.91, 'highPrice': 17334.26, 'lowPrice': 17317.5, 'lastPrice': 17318.91, 'volume': '355.20767000', 'quoteVolume': '6153281.89842680', 'openTime': 1673367480000, 'closeTime': 1673367597303, 'firstId': 2454270353, 'lastId': 2454279985, 'count': 9633, 'timestamp': '2023/01/10 23:19:57'}\n",
      "Message delivered to {'symbol': 'BTCUSDT', 'priceChange': -1.31, 'priceChangePercent': '-0.008', 'weightedAvgPrice': '17320.66418303', 'openPrice': 17321.32, 'highPrice': 17323.73, 'lowPrice': 17317.5, 'lastPrice': 17320.01, 'volume': '225.79853000', 'quoteVolume': '3910980.51115210', 'openTime': 1673367540000, 'closeTime': 1673367602578, 'firstId': 2454274958, 'lastId': 2454280603, 'count': 5646, 'timestamp': '2023/01/10 23:20:02'}\n",
      "Message delivered to {'symbol': 'BTCUSDT', 'priceChange': 2.98, 'priceChangePercent': '0.017', 'weightedAvgPrice': '17320.76740825', 'openPrice': 17321.32, 'highPrice': 17324.33, 'lowPrice': 17317.5, 'lastPrice': 17324.3, 'volume': '245.60689000', 'quoteVolume': '4254099.81555370', 'openTime': 1673367540000, 'closeTime': 1673367607864, 'firstId': 2454274958, 'lastId': 2454281201, 'count': 6244, 'timestamp': '2023/01/10 23:20:08'}\n",
      "Message delivered to {'symbol': 'BTCUSDT', 'priceChange': 0.22, 'priceChangePercent': '0.001', 'weightedAvgPrice': '17320.38970747', 'openPrice': 17321.32, 'highPrice': 17327.08, 'lowPrice': 17314.9, 'lastPrice': 17321.54, 'volume': '438.47576000', 'quoteVolume': '7594571.04048020', 'openTime': 1673367540000, 'closeTime': 1673367613466, 'firstId': 2454274958, 'lastId': 2454283058, 'count': 8101, 'timestamp': '2023/01/10 23:20:13'}\n",
      "Message delivered to {'symbol': 'BTCUSDT', 'priceChange': 0.13, 'priceChangePercent': '0.001', 'weightedAvgPrice': '17320.54139116', 'openPrice': 17321.32, 'highPrice': 17327.08, 'lowPrice': 17314.9, 'lastPrice': 17321.45, 'volume': '487.22182000', 'quoteVolume': '8438945.69998400', 'openTime': 1673367540000, 'closeTime': 1673367618779, 'firstId': 2454274958, 'lastId': 2454284079, 'count': 9122, 'timestamp': '2023/01/10 23:20:19'}\n"
     ]
    },
    {
     "name": "stdout",
     "output_type": "stream",
     "text": [
      "Message delivered to {'symbol': 'BTCUSDT', 'priceChange': 4.35, 'priceChangePercent': '0.025', 'weightedAvgPrice': '17320.85474754', 'openPrice': 17321.32, 'highPrice': 17327.08, 'lowPrice': 17314.9, 'lastPrice': 17325.67, 'volume': '526.62338000', 'quoteVolume': '9121567.07163960', 'openTime': 1673367540000, 'closeTime': 1673367624070, 'firstId': 2454274958, 'lastId': 2454284624, 'count': 9667, 'timestamp': '2023/01/10 23:20:24'}\n",
      "Message delivered to {'symbol': 'BTCUSDT', 'priceChange': 4.86, 'priceChangePercent': '0.028', 'weightedAvgPrice': '17321.00405306', 'openPrice': 17321.32, 'highPrice': 17327.5, 'lowPrice': 17314.9, 'lastPrice': 17326.18, 'volume': '541.84918000', 'quoteVolume': '9385371.84292970', 'openTime': 1673367540000, 'closeTime': 1673367629399, 'firstId': 2454274958, 'lastId': 2454285115, 'count': 10158, 'timestamp': '2023/01/10 23:20:29'}\n",
      "Message delivered to {'symbol': 'BTCUSDT', 'priceChange': 6.96, 'priceChangePercent': '0.040', 'weightedAvgPrice': '17321.18850952', 'openPrice': 17321.32, 'highPrice': 17328.54, 'lowPrice': 17314.9, 'lastPrice': 17328.28, 'volume': '557.31656000', 'quoteVolume': '9653385.19523690', 'openTime': 1673367540000, 'closeTime': 1673367634685, 'firstId': 2454274958, 'lastId': 2454285519, 'count': 10562, 'timestamp': '2023/01/10 23:20:34'}\n",
      "Message delivered to {'symbol': 'BTCUSDT', 'priceChange': 5.11, 'priceChangePercent': '0.030', 'weightedAvgPrice': '17321.28825541', 'openPrice': 17321.32, 'highPrice': 17328.94, 'lowPrice': 17314.9, 'lastPrice': 17326.43, 'volume': '566.51174000', 'quoteVolume': '9812713.14861280', 'openTime': 1673367540000, 'closeTime': 1673367639985, 'firstId': 2454274958, 'lastId': 2454285893, 'count': 10936, 'timestamp': '2023/01/10 23:20:40'}\n",
      "Message delivered to {'symbol': 'BTCUSDT', 'priceChange': 7.77, 'priceChangePercent': '0.045', 'weightedAvgPrice': '17321.59435185', 'openPrice': 17321.32, 'highPrice': 17330.5, 'lowPrice': 17314.9, 'lastPrice': 17329.09, 'volume': '589.18784000', 'quoteVolume': '10205672.76152220', 'openTime': 1673367540000, 'closeTime': 1673367645313, 'firstId': 2454274958, 'lastId': 2454286537, 'count': 11580, 'timestamp': '2023/01/10 23:20:45'}\n",
      "Message delivered to {'symbol': 'BTCUSDT', 'priceChange': 8.72, 'priceChangePercent': '0.050', 'weightedAvgPrice': '17321.79538554', 'openPrice': 17321.32, 'highPrice': 17331.47, 'lowPrice': 17314.9, 'lastPrice': 17330.04, 'volume': '603.94074000', 'quoteVolume': '10461337.92327410', 'openTime': 1673367540000, 'closeTime': 1673367650604, 'firstId': 2454274958, 'lastId': 2454286988, 'count': 12031, 'timestamp': '2023/01/10 23:20:50'}\n",
      "Message delivered to {'symbol': 'BTCUSDT', 'priceChange': 7.42, 'priceChangePercent': '0.043', 'weightedAvgPrice': '17322.03148313', 'openPrice': 17321.32, 'highPrice': 17331.47, 'lowPrice': 17314.9, 'lastPrice': 17328.74, 'volume': '623.98088000', 'quoteVolume': '10808616.44822920', 'openTime': 1673367540000, 'closeTime': 1673367655907, 'firstId': 2454274958, 'lastId': 2454287474, 'count': 12517, 'timestamp': '2023/01/10 23:20:56'}\n"
     ]
    },
    {
     "ename": "KeyboardInterrupt",
     "evalue": "",
     "output_type": "error",
     "traceback": [
      "\u001b[1;31m---------------------------------------------------------------------------\u001b[0m",
      "\u001b[1;31mKeyboardInterrupt\u001b[0m                         Traceback (most recent call last)",
      "Input \u001b[1;32mIn [1]\u001b[0m, in \u001b[0;36m<cell line: 31>\u001b[1;34m()\u001b[0m\n\u001b[0;32m     43\u001b[0m p\u001b[38;5;241m.\u001b[39mflush()\n\u001b[0;32m     44\u001b[0m \u001b[38;5;66;03m#producer.send('jjmm_binance', value=data)\u001b[39;00m\n\u001b[1;32m---> 45\u001b[0m \u001b[43mtime\u001b[49m\u001b[38;5;241;43m.\u001b[39;49m\u001b[43msleep\u001b[49m\u001b[43m(\u001b[49m\u001b[38;5;241;43m5\u001b[39;49m\u001b[43m)\u001b[49m\n",
      "\u001b[1;31mKeyboardInterrupt\u001b[0m: "
     ]
    }
   ],
   "source": [
    "# Producer\n",
    "import time\n",
    "from json import dumps\n",
    "from confluent_kafka import Producer\n",
    "from datetime import datetime\n",
    "import requests\n",
    "import uuid\n",
    "ID=uuid.uuid1()\n",
    "\n",
    "\n",
    "p = Producer({'bootstrap.servers': 'ec2-13-229-46-113.ap-southeast-1.compute.amazonaws.com:9092'})\n",
    "ID=uuid.uuid1()\n",
    "def delivery_report(err, msg):\n",
    "    \"\"\" Called once for each message produced to indicate delivery result.\n",
    "        Triggered by poll() or flush(). \"\"\"\n",
    "    if err is not None:\n",
    "        print('Message delivery failed: {}'.format(err))\n",
    "    else:\n",
    "        print('Message delivered to {}'.format(msg.value().decode('utf-8')))\n",
    "\n",
    " #file1.readlines()\n",
    "\n",
    "\n",
    "coin = 'BTCUSDT'\n",
    "tick_interval = '1m'\n",
    "key = \"https://api.binance.com/api/v3/ticker?symbol=\"+coin+\"&windowSize=\"+tick_interval\n",
    "#key = \"https://api.binance.com/api/v3/ticker/price?symbol=BTCUSDT\"\n",
    "\n",
    "\n",
    "while True:\n",
    "    data = requests.get(key)\n",
    "    data = data.json()\n",
    "    data[\"priceChange\"]=float(data[\"priceChange\"])\n",
    "    data[\"openPrice\"]=float(data[\"openPrice\"])\n",
    "    data[\"highPrice\"]=float(data[\"highPrice\"])\n",
    "    data[\"lowPrice\"]=float(data[\"lowPrice\"])\n",
    "    data[\"lastPrice\"]=float(data[\"lastPrice\"])\n",
    "    data['timestamp']=datetime.now().strftime(\"%Y/%m/%d %H:%M:%S\")\n",
    "    line=str(data)\n",
    "    #sendMsg = line.encode().decode('utf-8').strip('\\n')\n",
    "    p.poll(0)\n",
    "    p.produce('jjmm_binance', key=\"id{}\".format(ID.hex), value=line , callback=delivery_report)\n",
    "    p.flush()\n",
    "    #producer.send('jjmm_binance', value=data)\n",
    "    time.sleep(5)\n"
   ]
  },
  {
   "cell_type": "code",
   "execution_count": null,
   "id": "d32e9c46",
   "metadata": {},
   "outputs": [],
   "source": []
  }
 ],
 "metadata": {
  "kernelspec": {
   "display_name": "Python 3 (ipykernel)",
   "language": "python",
   "name": "python3"
  },
  "language_info": {
   "codemirror_mode": {
    "name": "ipython",
    "version": 3
   },
   "file_extension": ".py",
   "mimetype": "text/x-python",
   "name": "python",
   "nbconvert_exporter": "python",
   "pygments_lexer": "ipython3",
   "version": "3.9.7"
  }
 },
 "nbformat": 4,
 "nbformat_minor": 5
}
